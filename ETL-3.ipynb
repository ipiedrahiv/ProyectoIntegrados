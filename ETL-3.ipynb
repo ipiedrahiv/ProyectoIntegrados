{
	"metadata": {
		"kernelspec": {
			"name": "glue_pyspark",
			"display_name": "Glue PySpark",
			"language": "python"
		},
		"language_info": {
			"name": "Python_Glue_Session",
			"mimetype": "text/x-python",
			"codemirror_mode": {
				"name": "python",
				"version": 3
			},
			"pygments_lexer": "python3",
			"file_extension": ".py"
		}
	},
	"nbformat_minor": 4,
	"nbformat": 4,
	"cells": [
		{
			"cell_type": "markdown",
			"source": "\n# Glue Studio Notebook\nYou are now running a **Glue Studio** notebook; before you can start using your notebook you *must* start an interactive session.\n\n## Available Magics\n|          Magic              |   Type       |                                                                        Description                                                                        |\n|-----------------------------|--------------|-----------------------------------------------------------------------------------------------------------------------------------------------------------|\n| %%configure                 |  Dictionary  |  A json-formatted dictionary consisting of all configuration parameters for a session. Each parameter can be specified here or through individual magics. |\n| %profile                    |  String      |  Specify a profile in your aws configuration to use as the credentials provider.                                                                          |\n| %iam_role                   |  String      |  Specify an IAM role to execute your session with.                                                                                                        |\n| %region                     |  String      |  Specify the AWS region in which to initialize a session                                                                                                  |\n| %session_id                 |  String      |  Returns the session ID for the running session.                                                                                                          |\n| %connections                |  List        |  Specify a comma separated list of connections to use in the session.                                                                                     |\n| %additional_python_modules  |  List        |  Comma separated list of pip packages, s3 paths or private pip arguments.                                                                                 |\n| %extra_py_files             |  List        |  Comma separated list of additional Python files from S3.                                                                                                 |\n| %extra_jars                 |  List        |  Comma separated list of additional Jars to include in the cluster.                                                                                       |\n| %number_of_workers          |  Integer     |  The number of workers of a defined worker_type that are allocated when a job runs. worker_type must be set too.                                          |\n| %worker_type                |  String      |  Standard, G.1X, *or* G.2X. number_of_workers must be set too. Default is G.1X                                                                            |\n| %glue_version               |  String      |  The version of Glue to be used by this session. Currently, the only valid options are 2.0 and 3.0 (eg: %glue_version 2.0)                                |\n| %security_config            |  String      |  Define a security configuration to be used with this session.                                                                                            |\n| %sql                        |  String      |  Run SQL code. All lines after the initial %%sql magic will be passed as part of the SQL code.                                                            |\n| %streaming                  |  String      |  Changes the session type to Glue Streaming.                                                                                                              |\n| %etl                        |  String      |   Changes the session type to Glue ETL.                                                                                                                   |\n| %status                     |              |  Returns the status of the current Glue session including its duration, configuration and executing user / role.                                          |\n| %stop_session               |              |  Stops the current session.                                                                                                                               |\n| %list_sessions              |              |  Lists all currently running sessions by name and ID.                                                                                                     |\n| %spark_conf                 |  String      |  Specify custom spark configurations for your session. E.g. %spark_conf spark.serializer=org.apache.spark.serializer.KryoSerializer                       |",
			"metadata": {
				"editable": false,
				"deletable": false,
				"trusted": true
			}
		},
		{
			"cell_type": "code",
			"source": "import sys\nfrom awsglue.transforms import *\nfrom awsglue.utils import getResolvedOptions\nfrom pyspark.context import SparkContext\nfrom awsglue.context import GlueContext\nfrom awsglue.job import Job\n  \nsc = SparkContext.getOrCreate()\nglueContext = GlueContext(sc)\nspark = glueContext.spark_session\njob = Job(glueContext)",
			"metadata": {
				"editable": true,
				"trusted": true
			},
			"execution_count": 20,
			"outputs": [
				{
					"name": "stdout",
					"text": "\n",
					"output_type": "stream"
				}
			]
		},
		{
			"cell_type": "code",
			"source": "from setuptools import setup\n\nsetup(\n    name=\"glue_python_shell_sample_module\",\n    version=\"0.1\",\n    install_requires=[\n        \"pyarrow~=0.15.1\",\n        \"s3fs~=0.4.0\"\n    ]\n) ",
			"metadata": {
				"trusted": true
			},
			"execution_count": 21,
			"outputs": [
				{
					"name": "stdout",
					"text": "SystemExit: usage: 3342368526108747480 [global_opts] cmd1 [cmd1_opts] [cmd2 [cmd2_opts] ...]\n   or: 3342368526108747480 --help [cmd1 cmd2 ...]\n   or: 3342368526108747480 --help-commands\n   or: 3342368526108747480 cmd --help\n\nerror: no commands supplied\n",
					"output_type": "stream"
				}
			]
		},
		{
			"cell_type": "code",
			"source": "import pandas as pd\nfrom pathlib import Path\nimport re",
			"metadata": {
				"trusted": true
			},
			"execution_count": 22,
			"outputs": [
				{
					"name": "stdout",
					"text": "\n",
					"output_type": "stream"
				}
			]
		},
		{
			"cell_type": "code",
			"source": "bucket = \"proyectointegrador\"",
			"metadata": {
				"trusted": true
			},
			"execution_count": 23,
			"outputs": [
				{
					"name": "stdout",
					"text": "\n",
					"output_type": "stream"
				}
			]
		},
		{
			"cell_type": "markdown",
			"source": "## Datos homicidio\n\nCargamos y limpiamos todos los data sets relacionados con los homicidios",
			"metadata": {
				"tags": []
			}
		},
		{
			"cell_type": "markdown",
			"source": "### Se leen fuentes de S3 y se agregan a una lista:",
			"metadata": {}
		},
		{
			"cell_type": "code",
			"source": "data_sources = []\n\nfor year in range(2010, 2022):\n\n    df = pd.read_csv(f\"s3://{bucket}/raw/h_{str(year)}/homicidios_{str(year)}.csv\").dropna()\n    data_sources.append(df)\n    \ndata_sources[1]",
			"metadata": {
				"tags": [],
				"trusted": true
			},
			"execution_count": 24,
			"outputs": [
				{
					"name": "stdout",
					"text": "       DEPARTAMENTO          MUNICIPIO  ...  AGRUPA EDAD PERSONA CANTIDAD\n0         ANTIOQUIA              AMAGÁ  ...              ADULTOS        1\n1         ANTIOQUIA      MEDELLÍN (CT)  ...         ADOLESCENTES        1\n2         ANTIOQUIA      MEDELLÍN (CT)  ...              ADULTOS        1\n3         ANTIOQUIA              TURBO  ...              ADULTOS        1\n4         ATLÁNTICO  BARRANQUILLA (CT)  ...         ADOLESCENTES        1\n...             ...                ...  ...                  ...      ...\n11755         VALLE            PALMIRA  ...              ADULTOS        1\n11756         VALLE            SEVILLA  ...              ADULTOS        1\n11757        CALDAS            VITERBO  ...              ADULTOS        1\n11758  CUNDINAMARCA   BOGOTÁ D.C. (CT)  ...              ADULTOS        1\n11759        TOLIMA        IBAGUÉ (CT)  ...              ADULTOS        1\n\n[11760 rows x 8 columns]\n",
					"output_type": "stream"
				}
			]
		},
		{
			"cell_type": "markdown",
			"source": "### Estandarizamos nombres de columnas",
			"metadata": {}
		},
		{
			"cell_type": "code",
			"source": "cols = []\nfor df in data_sources:\n    for c in df.columns:\n        cols.append(c)\n    \ncount = {}\nfor c in cols:\n    if c not in count:\n        count[c] = 1\n    else:\n        count[c] += 1\n        \ncount",
			"metadata": {
				"trusted": true
			},
			"execution_count": 25,
			"outputs": [
				{
					"name": "stdout",
					"text": "{'DEPARTAMENTO': 11, 'MUNICIPIO': 12, 'CODIGO DANE': 11, 'ARMAS MEDIOS': 11, 'FECHA HECHO': 11, 'GENERO': 12, '*AGRUPA EDAD PERSONA': 8, 'CANTIDAD': 11, 'AGRUPA EDAD PERSONA': 3, 'ARMAS_MEDIOS': 1, 'DEPARTAMENTO ': 1, 'FECHA ': 1, '*AGRUPA_EDAD_PERSONA': 1, 'CODIGO_DANE': 1, 'CANTIDAD ': 1}\n",
					"output_type": "stream"
				}
			]
		},
		{
			"cell_type": "code",
			"source": "regex = re.compile('[^a-zA-Z]')\nconversions = {'fecha':'fechahecho', 'agrupaedad':'agrupaedadpersona'}\n\nfor df in data_sources:\n    # Sin caracteres especiales y en minusculas\n    df.columns = [regex.sub('', c).lower() for c in df.columns]\n    \n    # Change column name to convention\n    df.columns = [conversions[c] if c in conversions else c for c in df.columns]\n\n    # Drop unnecesary columns\n    df.drop(['agrupaedadpersona', 'armasmedios', 'genero'], axis=1, inplace=True)\n\n    # Codigo DANE to int and remove 000 at the end\n    df['codigodane'] = df['codigodane'].astype(str).apply(lambda x: int(int(x)/1000))\n",
			"metadata": {
				"trusted": true
			},
			"execution_count": 26,
			"outputs": [
				{
					"name": "stdout",
					"text": "\n",
					"output_type": "stream"
				}
			]
		},
		{
			"cell_type": "markdown",
			"source": "### Ordenamos columnas en orden alfabÃÂ©tico",
			"metadata": {}
		},
		{
			"cell_type": "code",
			"source": "for i in range(len(data_sources)):\n    data_sources[i] = data_sources[i].reindex(sorted(data_sources[i].columns), axis=1)\n    \ndata_sources[3]",
			"metadata": {
				"trusted": true
			},
			"execution_count": 27,
			"outputs": [
				{
					"name": "stdout",
					"text": "       cantidad  codigodane departamento  fechahecho            municipio\n0             1        5093    ANTIOQUIA  2013-01-01              BETULIA\n1             1        5113    ANTIOQUIA  2013-01-01             BURITICÁ\n2             1        5001    ANTIOQUIA  2013-01-01        MEDELLÍN (CT)\n3             1        8758    ATLÁNTICO  2013-01-01              SOLEDAD\n4             3       13001      BOLÍVAR  2013-01-01       CARTAGENA (CT)\n...         ...         ...          ...         ...                  ...\n11718         1       76111        VALLE  2013-12-31  GUADALAJARA DE BUGA\n11719         1        5001    ANTIOQUIA  2013-12-31        MEDELLÍN (CT)\n11720         1       18001      CAQUETÁ  2013-12-31       FLORENCIA (CT)\n11721         1       18410      CAQUETÁ  2013-12-31         LA MONTAÑITA\n11722         1       66400    RISARALDA  2013-12-31          LA VIRGINIA\n\n[11723 rows x 5 columns]\n",
					"output_type": "stream"
				}
			]
		},
		{
			"cell_type": "code",
			"source": "length = 0\nfor df in data_sources:\n    length += len(df)\nlength",
			"metadata": {
				"trusted": true
			},
			"execution_count": 28,
			"outputs": [
				{
					"name": "stdout",
					"text": "134985\n",
					"output_type": "stream"
				}
			]
		},
		{
			"cell_type": "markdown",
			"source": "### Agregamos todos los datos a un mismo dataframe",
			"metadata": {}
		},
		{
			"cell_type": "code",
			"source": "# Crear un ÃÂºnico dataframe con todos los homicidios de todos los aÃÂ±os\n\ndata = data_sources[0]\n\nfor df in data_sources[1:]:\n    data = data.append(df, ignore_index=True)\n    \ndata",
			"metadata": {
				"trusted": true
			},
			"execution_count": 29,
			"outputs": [
				{
					"name": "stdout",
					"text": "        cantidad  codigodane departamento  fechahecho          municipio\n0              1        5030    ANTIOQUIA  2010-01-01              AMAGÁ\n1              1        5001    ANTIOQUIA  2010-01-01      MEDELLÍN (CT)\n2              1        5615    ANTIOQUIA  2010-01-01           RIONEGRO\n3              1        8001    ATLÁNTICO  2010-01-01  BARRANQUILLA (CT)\n4              1        8433    ATLÁNTICO  2010-01-01            MALAMBO\n...          ...         ...          ...         ...                ...\n134980         1       76520        VALLE  2021-12-08            PALMIRA\n134981         1       76606        VALLE  2021-10-08           RESTREPO\n134982         1       76834        VALLE  2021-05-08              TULUÁ\n134983         1       76890        VALLE  2021-06-06             YOTOCO\n134984         1       76892        VALLE  2021-12-11              YUMBO\n\n[134985 rows x 5 columns]\n",
					"output_type": "stream"
				}
			]
		},
		{
			"cell_type": "code",
			"source": "df_cod_dep_mun = data[['codigodane','departamento','municipio']]\ndf_cod_dep_mun",
			"metadata": {
				"trusted": true
			},
			"execution_count": 30,
			"outputs": [
				{
					"name": "stdout",
					"text": "        codigodane departamento          municipio\n0             5030    ANTIOQUIA              AMAGÁ\n1             5001    ANTIOQUIA      MEDELLÍN (CT)\n2             5615    ANTIOQUIA           RIONEGRO\n3             8001    ATLÁNTICO  BARRANQUILLA (CT)\n4             8433    ATLÁNTICO            MALAMBO\n...            ...          ...                ...\n134980       76520        VALLE            PALMIRA\n134981       76606        VALLE           RESTREPO\n134982       76834        VALLE              TULUÁ\n134983       76890        VALLE             YOTOCO\n134984       76892        VALLE              YUMBO\n\n[134985 rows x 3 columns]\n",
					"output_type": "stream"
				}
			]
		},
		{
			"cell_type": "markdown",
			"source": "### Agregamos columnas para dÃÂ­a, mes y aÃÂ±o",
			"metadata": {}
		},
		{
			"cell_type": "code",
			"source": "# Separamos la fecha en dÃÂ­a, mes y aÃÂ±o\n\ndata['fechahecho'] = data['fechahecho'].astype('datetime64[ns]')\n\ndata['day'] = data['fechahecho'].dt.day\ndata['month'] = data['fechahecho'].dt.month\ndata['year'] = data['fechahecho'].dt.year\n\ndata",
			"metadata": {
				"trusted": true
			},
			"execution_count": 31,
			"outputs": [
				{
					"name": "stdout",
					"text": "        cantidad  codigodane departamento  ... day month  year\n0              1        5030    ANTIOQUIA  ...   1     1  2010\n1              1        5001    ANTIOQUIA  ...   1     1  2010\n2              1        5615    ANTIOQUIA  ...   1     1  2010\n3              1        8001    ATLÁNTICO  ...   1     1  2010\n4              1        8433    ATLÁNTICO  ...   1     1  2010\n...          ...         ...          ...  ...  ..   ...   ...\n134980         1       76520        VALLE  ...   8    12  2021\n134981         1       76606        VALLE  ...   8    10  2021\n134982         1       76834        VALLE  ...   8     5  2021\n134983         1       76890        VALLE  ...   6     6  2021\n134984         1       76892        VALLE  ...  11    12  2021\n\n[134985 rows x 8 columns]\n",
					"output_type": "stream"
				}
			]
		},
		{
			"cell_type": "markdown",
			"source": "### Agrupamos por municipio por aÃÂ±o; necesitamos los homicidios por cada aÃÂ±o de cada municipio",
			"metadata": {}
		},
		{
			"cell_type": "code",
			"source": "# Agrupamos por municipio y aÃÂ±o\ndata = data.groupby(['year','codigodane']).sum()\ndata",
			"metadata": {
				"trusted": true
			},
			"execution_count": 32,
			"outputs": [
				{
					"name": "stdout",
					"text": "                 cantidad   day  month\nyear codigodane                       \n2010 5001            1403  9581   4117\n     5002               4    33     17\n     5030              10   160     47\n     5031               6    90     22\n     5034              11   131     72\n...                   ...   ...    ...\n2021 95200              1    24      5\n     97001              1    13      7\n     99001              6    85     43\n     99524              1    23     10\n     99773              4    27     28\n\n[9800 rows x 3 columns]\n",
					"output_type": "stream"
				}
			]
		},
		{
			"cell_type": "code",
			"source": "data.columns",
			"metadata": {
				"trusted": true
			},
			"execution_count": 33,
			"outputs": [
				{
					"name": "stdout",
					"text": "Index(['cantidad', 'day', 'month'], dtype='object')\n",
					"output_type": "stream"
				}
			]
		},
		{
			"cell_type": "code",
			"source": "data = data.drop([\"day\",\"month\"], axis=1)\ndata",
			"metadata": {
				"trusted": true
			},
			"execution_count": 34,
			"outputs": [
				{
					"name": "stdout",
					"text": "                 cantidad\nyear codigodane          \n2010 5001            1403\n     5002               4\n     5030              10\n     5031               6\n     5034              11\n...                   ...\n2021 95200              1\n     97001              1\n     99001              6\n     99524              1\n     99773              4\n\n[9800 rows x 1 columns]\n",
					"output_type": "stream"
				}
			]
		},
		{
			"cell_type": "markdown",
			"source": "## Datos poblaciÃ³n\n\n### Usamos los datos de poblaciÃÂ³n para crear un dataset con tasa de homicidio (a razÃÂ³n de la poblaciÃÂ³n) y no con valores totales",
			"metadata": {}
		},
		{
			"cell_type": "code",
			"source": "poblacion = pd.read_csv(f\"s3://{bucket}/raw/Poblacion/Poblacion.csv\", header=0, names=[\"year\", \"codigodane\", \"poblacion\"], dtype={\"year\":\"int64\", \"codigodane\":\"int64\", \"poblacion\":\"int64\"}).dropna()\npoblacion.dtypes",
			"metadata": {
				"trusted": true
			},
			"execution_count": 35,
			"outputs": [
				{
					"name": "stdout",
					"text": "year          int64\ncodigodane    int64\npoblacion     int64\ndtype: object\n",
					"output_type": "stream"
				}
			]
		},
		{
			"cell_type": "code",
			"source": "poblacion",
			"metadata": {
				"trusted": true
			},
			"execution_count": 36,
			"outputs": [
				{
					"name": "stdout",
					"text": "       year  codigodane  poblacion\n0      1985        5001    1450177\n1      1985        5002      27635\n2      1985        5004       2851\n3      1985        5021       4964\n4      1985        5030      22541\n...     ...         ...        ...\n47119  2026       97889       1457\n47120  2026       99001      21228\n47121  2026       99524      10141\n47122  2026       99624       4445\n47123  2026       99773      84991\n\n[47124 rows x 3 columns]\n",
					"output_type": "stream"
				}
			]
		},
		{
			"cell_type": "code",
			"source": "poblacion = poblacion.loc[poblacion['year'] > 2009]\npoblacion = poblacion.loc[poblacion['year'] < 2022]\npoblacion",
			"metadata": {
				"trusted": true
			},
			"execution_count": 37,
			"outputs": [
				{
					"name": "stdout",
					"text": "       year  codigodane  poblacion\n28050  2010        5001    2185539\n28051  2010        5002      21822\n28052  2010        5004       2655\n28053  2010        5021       4679\n28054  2010        5030      28132\n...     ...         ...        ...\n41509  2021       97889       1153\n41510  2021       99001      20578\n41511  2021       99524       9743\n41512  2021       99624       4252\n41513  2021       99773      79984\n\n[13464 rows x 3 columns]\n",
					"output_type": "stream"
				}
			]
		},
		{
			"cell_type": "code",
			"source": "data_poblacion = data.merge(poblacion, on=[\"codigodane\",\"year\"])\ndata_poblacion",
			"metadata": {
				"trusted": true
			},
			"execution_count": 47,
			"outputs": [
				{
					"name": "stdout",
					"text": "      codigodane  year  cantidad  poblacion\n0           5001  2010      1403    2185539\n1           5002  2010         4      21822\n2           5030  2010        10      28132\n3           5031  2010         6      23986\n4           5034  2010        11      42152\n...          ...   ...       ...        ...\n9795       95200  2021         1       7194\n9796       97001  2021         1      34307\n9797       99001  2021         6      20578\n9798       99524  2021         1       9743\n9799       99773  2021         4      79984\n\n[9800 rows x 4 columns]\n",
					"output_type": "stream"
				}
			]
		},
		{
			"cell_type": "code",
			"source": "data_poblacion[\"tasa\"] = data_poblacion[\"cantidad\"] * (100000 / data_poblacion[\"poblacion\"].values)\ndata_poblacion",
			"metadata": {
				"trusted": true
			},
			"execution_count": 48,
			"outputs": [
				{
					"name": "stdout",
					"text": "      codigodane  year  cantidad  poblacion       tasa\n0           5001  2010      1403    2185539  64.194691\n1           5002  2010         4      21822  18.330126\n2           5030  2010        10      28132  35.546708\n3           5031  2010         6      23986  25.014592\n4           5034  2010        11      42152  26.096033\n...          ...   ...       ...        ...        ...\n9795       95200  2021         1       7194  13.900473\n9796       97001  2021         1      34307   2.914857\n9797       99001  2021         6      20578  29.157353\n9798       99524  2021         1       9743  10.263779\n9799       99773  2021         4      79984   5.001000\n\n[9800 rows x 5 columns]\n",
					"output_type": "stream"
				}
			]
		},
		{
			"cell_type": "markdown",
			"source": "# Datos codigo municipio y cod dept",
			"metadata": {}
		},
		{
			"cell_type": "code",
			"source": "df_cod_dep_mun = pd.read_csv('s3://proyectointegrador/raw/MunDeptCod/MunDeptCod.csv', index_col=0)\ndf_cod_dep_mun.columns = ['departamento', 'dpto', 'codigodane', 'municipio']\ndf_cod_dep_mun = df_cod_dep_mun.drop_duplicates().reset_index().drop(['index'], axis=1)\ndf_cod_dep_mun",
			"metadata": {
				"trusted": true
			},
			"execution_count": 74,
			"outputs": [
				{
					"name": "stdout",
					"text": "            departamento  dpto  codigodane      municipio\n0              Antioquia     5        5001  Medellín (ct)\n1              Antioquia     5        5002      Abejorral\n2              Antioquia     5        5030          Amagá\n3              Antioquia     5        5031         Amalfi\n4              Antioquia     5        5034          Andes\n...                  ...   ...         ...            ...\n1067  Norte de santander    54       54347         Herrán\n1068           Santander    68       68344           Hato\n1069           Atlántico     8        8675    Santa lucía\n1070              Boyacá    15       15550          Pisba\n1071               Sucre    70       70670           Samp\n\n[1072 rows x 4 columns]\n",
					"output_type": "stream"
				}
			]
		},
		{
			"cell_type": "code",
			"source": "data_poblacion_dpto = data_poblacion.merge(df_cod_dep_mun, on=['codigodane'], how='left',)\ndata_poblacion_dpto.reindex()\n",
			"metadata": {
				"trusted": true
			},
			"execution_count": 75,
			"outputs": [
				{
					"name": "stdout",
					"text": "      codigodane  year  cantidad  ...  departamento  dpto            municipio\n0           5001  2010      1403  ...     Antioquia   5.0        Medellín (ct)\n1           5002  2010         4  ...     Antioquia   5.0            Abejorral\n2           5030  2010        10  ...     Antioquia   5.0                Amagá\n3           5031  2010         6  ...     Antioquia   5.0               Amalfi\n4           5034  2010        11  ...     Antioquia   5.0                Andes\n...          ...   ...       ...  ...           ...   ...                  ...\n9807       95200  2021         1  ...      Guaviare  95.0           Miraflores\n9808       97001  2021         1  ...        Vaupés  97.0            Mitú (ct)\n9809       99001  2021         6  ...       Vichada  99.0  Puerto carreño (ct)\n9810       99524  2021         1  ...       Vichada  99.0         La primavera\n9811       99773  2021         4  ...       Vichada  99.0             Cumaribo\n\n[9812 rows x 8 columns]\n",
					"output_type": "stream"
				}
			]
		},
		{
			"cell_type": "code",
			"source": "data_poblacion_dpto.columns",
			"metadata": {
				"trusted": true
			},
			"execution_count": 78,
			"outputs": [
				{
					"name": "stdout",
					"text": "Index(['codigodane', 'year', 'cantidad', 'poblacion', 'tasa', 'departamento',\n       'dpto', 'municipio'],\n      dtype='object')\n",
					"output_type": "stream"
				}
			]
		},
		{
			"cell_type": "code",
			"source": "data_poblacion_dpto.columns = ['mpio_ccdgo','year','cantidad','poblacion','tasa','departamento', 'dpto', 'municipio_hecho']",
			"metadata": {
				"trusted": true
			},
			"execution_count": 79,
			"outputs": [
				{
					"name": "stdout",
					"text": "\n",
					"output_type": "stream"
				}
			]
		},
		{
			"cell_type": "code",
			"source": "data_poblacion.to_csv(f's3://{bucket}/trusted/data_poblacion.csv')",
			"metadata": {
				"trusted": true
			},
			"execution_count": 80,
			"outputs": [
				{
					"name": "stdout",
					"text": "\n",
					"output_type": "stream"
				}
			]
		},
		{
			"cell_type": "code",
			"source": "",
			"metadata": {},
			"execution_count": null,
			"outputs": []
		}
	]
}